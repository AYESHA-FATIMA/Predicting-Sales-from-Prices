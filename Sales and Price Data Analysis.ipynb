{
 "cells": [
  {
   "cell_type": "code",
   "execution_count": 1,
   "metadata": {},
   "outputs": [
    {
     "name": "stderr",
     "output_type": "stream",
     "text": [
      "C:\\Users\\abc\\Anaconda3\\lib\\site-packages\\ipykernel_launcher.py:2: FutureWarning: from_csv is deprecated. Please use read_csv(...) instead. Note that some of the default arguments are different, so please refer to the documentation for from_csv when changing your function calls\n",
      "  \n"
     ]
    },
    {
     "data": {
      "text/html": [
       "<div>\n",
       "<style scoped>\n",
       "    .dataframe tbody tr th:only-of-type {\n",
       "        vertical-align: middle;\n",
       "    }\n",
       "\n",
       "    .dataframe tbody tr th {\n",
       "        vertical-align: top;\n",
       "    }\n",
       "\n",
       "    .dataframe thead th {\n",
       "        text-align: right;\n",
       "    }\n",
       "</style>\n",
       "<table border=\"1\" class=\"dataframe\">\n",
       "  <thead>\n",
       "    <tr style=\"text-align: right;\">\n",
       "      <th></th>\n",
       "      <th>Price</th>\n",
       "      <th>Sales</th>\n",
       "    </tr>\n",
       "    <tr>\n",
       "      <th>Observ.</th>\n",
       "      <th></th>\n",
       "      <th></th>\n",
       "    </tr>\n",
       "  </thead>\n",
       "  <tbody>\n",
       "    <tr>\n",
       "      <th>1</th>\n",
       "      <td>54</td>\n",
       "      <td>93</td>\n",
       "    </tr>\n",
       "    <tr>\n",
       "      <th>2</th>\n",
       "      <td>54</td>\n",
       "      <td>92</td>\n",
       "    </tr>\n",
       "    <tr>\n",
       "      <th>3</th>\n",
       "      <td>53</td>\n",
       "      <td>92</td>\n",
       "    </tr>\n",
       "    <tr>\n",
       "      <th>4</th>\n",
       "      <td>54</td>\n",
       "      <td>91</td>\n",
       "    </tr>\n",
       "    <tr>\n",
       "      <th>5</th>\n",
       "      <td>52</td>\n",
       "      <td>93</td>\n",
       "    </tr>\n",
       "  </tbody>\n",
       "</table>\n",
       "</div>"
      ],
      "text/plain": [
       "         Price  Sales\n",
       "Observ.              \n",
       "1           54     93\n",
       "2           54     92\n",
       "3           53     92\n",
       "4           54     91\n",
       "5           52     93"
      ]
     },
     "execution_count": 1,
     "metadata": {},
     "output_type": "execute_result"
    }
   ],
   "source": [
    "#Importing data into python \n",
    "\n",
    "import pandas as pd\n",
    "df = pd.DataFrame.from_csv('data/Salesdata.txt', sep = '\\t')\n",
    "df.head()"
   ]
  },
  {
   "cell_type": "code",
   "execution_count": 6,
   "metadata": {},
   "outputs": [
    {
     "name": "stdout",
     "output_type": "stream",
     "text": [
      "186.5071428571428 -1.7503105590062118\n",
      "                            OLS Regression Results                            \n",
      "==============================================================================\n",
      "Dep. Variable:                  Sales   R-squared:                       0.725\n",
      "Model:                            OLS   Adj. R-squared:                  0.722\n",
      "Method:                 Least Squares   F-statistic:                     268.3\n",
      "Date:                Sat, 17 Aug 2019   Prob (F-statistic):           2.55e-30\n",
      "Time:                        01:26:35   Log-Likelihood:                -164.58\n",
      "No. Observations:                 104   AIC:                             333.2\n",
      "Df Residuals:                     102   BIC:                             338.4\n",
      "Df Model:                           1                                         \n",
      "Covariance Type:            nonrobust                                         \n",
      "==============================================================================\n",
      "                 coef    std err          t      P>|t|      [0.025      0.975]\n",
      "------------------------------------------------------------------------------\n",
      "Intercept    186.5071      5.767     32.339      0.000     175.068     197.947\n",
      "Price         -1.7503      0.107    -16.380      0.000      -1.962      -1.538\n",
      "==============================================================================\n",
      "Omnibus:                        0.624   Durbin-Watson:                   1.846\n",
      "Prob(Omnibus):                  0.732   Jarque-Bera (JB):                0.235\n",
      "Skew:                           0.029   Prob(JB):                        0.889\n",
      "Kurtosis:                       3.225   Cond. No.                     2.67e+03\n",
      "==============================================================================\n",
      "\n",
      "Warnings:\n",
      "[1] Standard Errors assume that the covariance matrix of the errors is correctly specified.\n",
      "[2] The condition number is large, 2.67e+03. This might indicate that there are\n",
      "strong multicollinearity or other numerical problems.\n"
     ]
    }
   ],
   "source": [
    "#Running regressions with statsmodel packege\n",
    "\n",
    "import statsmodels.formula.api as smf\n",
    "form = 'Sales~Price'\n",
    "results = smf.ols(formula = form, data = df).fit()\n",
    "a= results.params[0]\n",
    "b = results.params[1]\n",
    "print(a,b)\n",
    "print(results.summary())"
   ]
  },
  {
   "cell_type": "code",
   "execution_count": 14,
   "metadata": {
    "scrolled": true
   },
   "outputs": [
    {
     "data": {
      "text/html": [
       "<div>\n",
       "<style scoped>\n",
       "    .dataframe tbody tr th:only-of-type {\n",
       "        vertical-align: middle;\n",
       "    }\n",
       "\n",
       "    .dataframe tbody tr th {\n",
       "        vertical-align: top;\n",
       "    }\n",
       "\n",
       "    .dataframe thead th {\n",
       "        text-align: right;\n",
       "    }\n",
       "</style>\n",
       "<table border=\"1\" class=\"dataframe\">\n",
       "  <thead>\n",
       "    <tr style=\"text-align: right;\">\n",
       "      <th></th>\n",
       "      <th>Price</th>\n",
       "      <th>Sales</th>\n",
       "      <th>errors</th>\n",
       "    </tr>\n",
       "    <tr>\n",
       "      <th>Observ.</th>\n",
       "      <th></th>\n",
       "      <th></th>\n",
       "      <th></th>\n",
       "    </tr>\n",
       "  </thead>\n",
       "  <tbody>\n",
       "    <tr>\n",
       "      <th>1</th>\n",
       "      <td>54</td>\n",
       "      <td>93</td>\n",
       "      <td>1.009627</td>\n",
       "    </tr>\n",
       "    <tr>\n",
       "      <th>2</th>\n",
       "      <td>54</td>\n",
       "      <td>92</td>\n",
       "      <td>0.009627</td>\n",
       "    </tr>\n",
       "    <tr>\n",
       "      <th>3</th>\n",
       "      <td>53</td>\n",
       "      <td>92</td>\n",
       "      <td>-1.740683</td>\n",
       "    </tr>\n",
       "    <tr>\n",
       "      <th>4</th>\n",
       "      <td>54</td>\n",
       "      <td>91</td>\n",
       "      <td>-0.990373</td>\n",
       "    </tr>\n",
       "    <tr>\n",
       "      <th>5</th>\n",
       "      <td>52</td>\n",
       "      <td>93</td>\n",
       "      <td>-2.490994</td>\n",
       "    </tr>\n",
       "  </tbody>\n",
       "</table>\n",
       "</div>"
      ],
      "text/plain": [
       "         Price  Sales    errors\n",
       "Observ.                        \n",
       "1           54     93  1.009627\n",
       "2           54     92  0.009627\n",
       "3           53     92 -1.740683\n",
       "4           54     91 -0.990373\n",
       "5           52     93 -2.490994"
      ]
     },
     "execution_count": 14,
     "metadata": {},
     "output_type": "execute_result"
    }
   ],
   "source": [
    "#Creating Residuals column in dataframe\n",
    "\n",
    "df['errors']= (df['Sales']-a-b*df['Price'])\n",
    "df.head()"
   ]
  },
  {
   "cell_type": "code",
   "execution_count": 33,
   "metadata": {},
   "outputs": [
    {
     "data": {
      "text/plain": [
       "Text(0, 0.5, 'frequency')"
      ]
     },
     "execution_count": 33,
     "metadata": {},
     "output_type": "execute_result"
    },
    {
     "data": {
      "image/png": "[encoded data removed]",
      "text/plain": [
       "<Figure size 432x288 with 1 Axes>"
      ]
     },
     "metadata": {
      "needs_background": "light"
     },
     "output_type": "display_data"
    }
   ],
   "source": [
    "#Plotting histogram of residuals\n",
    "\n",
    "import matplotlib.pyplot as plt\n",
    "df['errors'].plot(kind = 'Hist', bins = 15)\n",
    "plt.xlabel('errors')\n",
    "plt.ylabel('frequency')"
   ]
  },
  {
   "cell_type": "code",
   "execution_count": 44,
   "metadata": {},
   "outputs": [
    {
     "name": "stdout",
     "output_type": "stream",
     "text": [
      "1.1833815816032216\n",
      "1.1833815816032212\n"
     ]
    }
   ],
   "source": [
    "#Calculating standard deviation of residuals\n",
    "\n",
    "s = ((((df['errors']-df['errors'].mean())**2).sum())/(df['errors'].count()-1))**(1/2)\n",
    "print(s)\n",
    "\n",
    "#OR we can directly calculate it by the following method\n",
    "\n",
    "print(df['errors'].std())"
   ]
  },
  {
   "cell_type": "code",
   "execution_count": 59,
   "metadata": {},
   "outputs": [
    {
     "name": "stdout",
     "output_type": "stream",
     "text": [
      "For the optimal price of 53.27830021291693, our predicted sales are 93.2535714285714\n"
     ]
    }
   ],
   "source": [
    "# If our turnover formula is T = Sales X Price where Sales = a + b x Price so T = aP + bP2 and hence our optimal Price will be P = -a/2b (according to the condition of maxima) hence,\n",
    "P = -a/(2*b)      # P = Optimal Price\n",
    "PS = a + b*P\n",
    "print('For the optimal price of {}, our predicted sales are {}'.format(P,PS))"
   ]
  },
  {
   "cell_type": "code",
   "execution_count": 70,
   "metadata": {},
   "outputs": [
    {
     "name": "stdout",
     "output_type": "stream",
     "text": [
      "a1= 174.97247282881273, a2 = 198.0418128854729\n",
      "e1 = -2.366763163206443, e2 = 2.366763163206443\n",
      "\n",
      "\n",
      "Optimal sales are:\n",
      "Lower bound = 85.11947325119992\n",
      "Upper bound = 101.38766960594289\n"
     ]
    }
   ],
   "source": [
    "#Since S = a + bP + E and P = -a/2b (accroding to the condition of maxima) so by putting the value of P in S we get S = a/2 + E\n",
    "\n",
    "#Here Standard error of a is\n",
    "SEa = results.bse[0]\n",
    "\n",
    "#95% confidence interval for a = a+-2 x SE of a\n",
    "a1 = a-2*SEa\n",
    "a2 = a+2*SEa\n",
    "print('a1= {}, a2 = {}'.format(a1,a2))\n",
    "\n",
    "#95% confidence interval for Error term is E = +-2 x S.d of errors\n",
    "e1 = -2*s\n",
    "e2 = 2*s\n",
    "print('e1 = {}, e2 = {}'.format(e1, e2))\n",
    "\n",
    "#Hence optimal sales interval is \n",
    "S1 = a1/2 + e1\n",
    "S2 = a2/2 + e2\n",
    "print('\\n\\nOptimal sales are:\\nLower bound = {}\\nUpper bound = {}'.format(S1,S2))\n"
   ]
  }
 ],
 "metadata": {
  "kernelspec": {
   "display_name": "Python 3",
   "language": "python",
   "name": "python3"
  },
  "language_info": {
   "codemirror_mode": {
    "name": "ipython",
    "version": 3
   },
   "file_extension": ".py",
   "mimetype": "text/x-python",
   "name": "python",
   "nbconvert_exporter": "python",
   "pygments_lexer": "ipython3",
   "version": "3.7.3"
  }
 },
 "nbformat": 4,
 "nbformat_minor": 2
}
